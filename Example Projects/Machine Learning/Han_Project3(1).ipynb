{
  "nbformat": 4,
  "nbformat_minor": 0,
  "metadata": {
    "colab": {
      "provenance": []
    },
    "kernelspec": {
      "name": "python3",
      "display_name": "Python 3"
    },
    "language_info": {
      "name": "python"
    }
  },
  "cells": [
    {
      "cell_type": "code",
      "execution_count": null,
      "metadata": {
        "id": "r0rrJg3c4T79"
      },
      "outputs": [],
      "source": [
        "%matplotlib inline\n",
        "%config InlineBackend.figure_format = 'retina'\n",
        "import matplotlib as mpl\n",
        "mpl.rcParams['figure.dpi'] = 120\n",
        "import matplotlib.pyplot as plt\n",
        "import warnings\n",
        "warnings.simplefilter(action='ignore', category=FutureWarning)"
      ]
    },
    {
      "cell_type": "code",
      "source": [
        "import numpy as np\n",
        "import pandas as pd\n",
        "from sklearn.linear_model import LinearRegression\n",
        "from sklearn.preprocessing import StandardScaler\n",
        "from sklearn.model_selection import train_test_split\n",
        "from sklearn.metrics import confusion_matrix\n",
        "from sklearn.preprocessing import StandardScaler"
      ],
      "metadata": {
        "id": "SqMqMTWQ5cG9"
      },
      "execution_count": null,
      "outputs": []
    },
    {
      "cell_type": "code",
      "source": [
        "mob = pd.read_csv('drive/MyDrive/Data Sets/mobile.csv')"
      ],
      "metadata": {
        "id": "sFMOy7hi5cQi"
      },
      "execution_count": null,
      "outputs": []
    },
    {
      "cell_type": "code",
      "source": [
        "mob"
      ],
      "metadata": {
        "id": "UPx5uMUP5cXh",
        "colab": {
          "base_uri": "https://localhost:8080/",
          "height": 488
        },
        "outputId": "6b4e9828-d4df-40a5-f5b7-72438aa37140"
      },
      "execution_count": null,
      "outputs": [
        {
          "output_type": "execute_result",
          "data": {
            "text/plain": [
              "      battery_power  blue  clock_speed  dual_sim  fc  four_g  int_memory  \\\n",
              "0               842     0          2.2         0   1       0           7   \n",
              "1              1021     1          0.5         1   0       1          53   \n",
              "2               563     1          0.5         1   2       1          41   \n",
              "3               615     1          2.5         0   0       0          10   \n",
              "4              1821     1          1.2         0  13       1          44   \n",
              "...             ...   ...          ...       ...  ..     ...         ...   \n",
              "1995            794     1          0.5         1   0       1           2   \n",
              "1996           1965     1          2.6         1   0       0          39   \n",
              "1997           1911     0          0.9         1   1       1          36   \n",
              "1998           1512     0          0.9         0   4       1          46   \n",
              "1999            510     1          2.0         1   5       1          45   \n",
              "\n",
              "      m_dep  mobile_wt  n_cores  ...  px_height  px_width   ram  sc_h  sc_w  \\\n",
              "0       0.6        188        2  ...         20       756  2549     9     7   \n",
              "1       0.7        136        3  ...        905      1988  2631    17     3   \n",
              "2       0.9        145        5  ...       1263      1716  2603    11     2   \n",
              "3       0.8        131        6  ...       1216      1786  2769    16     8   \n",
              "4       0.6        141        2  ...       1208      1212  1411     8     2   \n",
              "...     ...        ...      ...  ...        ...       ...   ...   ...   ...   \n",
              "1995    0.8        106        6  ...       1222      1890   668    13     4   \n",
              "1996    0.2        187        4  ...        915      1965  2032    11    10   \n",
              "1997    0.7        108        8  ...        868      1632  3057     9     1   \n",
              "1998    0.1        145        5  ...        336       670   869    18    10   \n",
              "1999    0.9        168        6  ...        483       754  3919    19     4   \n",
              "\n",
              "      talk_time  three_g  touch_screen  wifi  price_range  \n",
              "0            19        0             0     1            1  \n",
              "1             7        1             1     0            2  \n",
              "2             9        1             1     0            2  \n",
              "3            11        1             0     0            2  \n",
              "4            15        1             1     0            1  \n",
              "...         ...      ...           ...   ...          ...  \n",
              "1995         19        1             1     0            0  \n",
              "1996         16        1             1     1            2  \n",
              "1997          5        1             1     0            3  \n",
              "1998         19        1             1     1            0  \n",
              "1999          2        1             1     1            3  \n",
              "\n",
              "[2000 rows x 21 columns]"
            ],
            "text/html": [
              "\n",
              "  <div id=\"df-3727576a-794d-41d4-b0b4-3cd325485507\">\n",
              "    <div class=\"colab-df-container\">\n",
              "      <div>\n",
              "<style scoped>\n",
              "    .dataframe tbody tr th:only-of-type {\n",
              "        vertical-align: middle;\n",
              "    }\n",
              "\n",
              "    .dataframe tbody tr th {\n",
              "        vertical-align: top;\n",
              "    }\n",
              "\n",
              "    .dataframe thead th {\n",
              "        text-align: right;\n",
              "    }\n",
              "</style>\n",
              "<table border=\"1\" class=\"dataframe\">\n",
              "  <thead>\n",
              "    <tr style=\"text-align: right;\">\n",
              "      <th></th>\n",
              "      <th>battery_power</th>\n",
              "      <th>blue</th>\n",
              "      <th>clock_speed</th>\n",
              "      <th>dual_sim</th>\n",
              "      <th>fc</th>\n",
              "      <th>four_g</th>\n",
              "      <th>int_memory</th>\n",
              "      <th>m_dep</th>\n",
              "      <th>mobile_wt</th>\n",
              "      <th>n_cores</th>\n",
              "      <th>...</th>\n",
              "      <th>px_height</th>\n",
              "      <th>px_width</th>\n",
              "      <th>ram</th>\n",
              "      <th>sc_h</th>\n",
              "      <th>sc_w</th>\n",
              "      <th>talk_time</th>\n",
              "      <th>three_g</th>\n",
              "      <th>touch_screen</th>\n",
              "      <th>wifi</th>\n",
              "      <th>price_range</th>\n",
              "    </tr>\n",
              "  </thead>\n",
              "  <tbody>\n",
              "    <tr>\n",
              "      <th>0</th>\n",
              "      <td>842</td>\n",
              "      <td>0</td>\n",
              "      <td>2.2</td>\n",
              "      <td>0</td>\n",
              "      <td>1</td>\n",
              "      <td>0</td>\n",
              "      <td>7</td>\n",
              "      <td>0.6</td>\n",
              "      <td>188</td>\n",
              "      <td>2</td>\n",
              "      <td>...</td>\n",
              "      <td>20</td>\n",
              "      <td>756</td>\n",
              "      <td>2549</td>\n",
              "      <td>9</td>\n",
              "      <td>7</td>\n",
              "      <td>19</td>\n",
              "      <td>0</td>\n",
              "      <td>0</td>\n",
              "      <td>1</td>\n",
              "      <td>1</td>\n",
              "    </tr>\n",
              "    <tr>\n",
              "      <th>1</th>\n",
              "      <td>1021</td>\n",
              "      <td>1</td>\n",
              "      <td>0.5</td>\n",
              "      <td>1</td>\n",
              "      <td>0</td>\n",
              "      <td>1</td>\n",
              "      <td>53</td>\n",
              "      <td>0.7</td>\n",
              "      <td>136</td>\n",
              "      <td>3</td>\n",
              "      <td>...</td>\n",
              "      <td>905</td>\n",
              "      <td>1988</td>\n",
              "      <td>2631</td>\n",
              "      <td>17</td>\n",
              "      <td>3</td>\n",
              "      <td>7</td>\n",
              "      <td>1</td>\n",
              "      <td>1</td>\n",
              "      <td>0</td>\n",
              "      <td>2</td>\n",
              "    </tr>\n",
              "    <tr>\n",
              "      <th>2</th>\n",
              "      <td>563</td>\n",
              "      <td>1</td>\n",
              "      <td>0.5</td>\n",
              "      <td>1</td>\n",
              "      <td>2</td>\n",
              "      <td>1</td>\n",
              "      <td>41</td>\n",
              "      <td>0.9</td>\n",
              "      <td>145</td>\n",
              "      <td>5</td>\n",
              "      <td>...</td>\n",
              "      <td>1263</td>\n",
              "      <td>1716</td>\n",
              "      <td>2603</td>\n",
              "      <td>11</td>\n",
              "      <td>2</td>\n",
              "      <td>9</td>\n",
              "      <td>1</td>\n",
              "      <td>1</td>\n",
              "      <td>0</td>\n",
              "      <td>2</td>\n",
              "    </tr>\n",
              "    <tr>\n",
              "      <th>3</th>\n",
              "      <td>615</td>\n",
              "      <td>1</td>\n",
              "      <td>2.5</td>\n",
              "      <td>0</td>\n",
              "      <td>0</td>\n",
              "      <td>0</td>\n",
              "      <td>10</td>\n",
              "      <td>0.8</td>\n",
              "      <td>131</td>\n",
              "      <td>6</td>\n",
              "      <td>...</td>\n",
              "      <td>1216</td>\n",
              "      <td>1786</td>\n",
              "      <td>2769</td>\n",
              "      <td>16</td>\n",
              "      <td>8</td>\n",
              "      <td>11</td>\n",
              "      <td>1</td>\n",
              "      <td>0</td>\n",
              "      <td>0</td>\n",
              "      <td>2</td>\n",
              "    </tr>\n",
              "    <tr>\n",
              "      <th>4</th>\n",
              "      <td>1821</td>\n",
              "      <td>1</td>\n",
              "      <td>1.2</td>\n",
              "      <td>0</td>\n",
              "      <td>13</td>\n",
              "      <td>1</td>\n",
              "      <td>44</td>\n",
              "      <td>0.6</td>\n",
              "      <td>141</td>\n",
              "      <td>2</td>\n",
              "      <td>...</td>\n",
              "      <td>1208</td>\n",
              "      <td>1212</td>\n",
              "      <td>1411</td>\n",
              "      <td>8</td>\n",
              "      <td>2</td>\n",
              "      <td>15</td>\n",
              "      <td>1</td>\n",
              "      <td>1</td>\n",
              "      <td>0</td>\n",
              "      <td>1</td>\n",
              "    </tr>\n",
              "    <tr>\n",
              "      <th>...</th>\n",
              "      <td>...</td>\n",
              "      <td>...</td>\n",
              "      <td>...</td>\n",
              "      <td>...</td>\n",
              "      <td>...</td>\n",
              "      <td>...</td>\n",
              "      <td>...</td>\n",
              "      <td>...</td>\n",
              "      <td>...</td>\n",
              "      <td>...</td>\n",
              "      <td>...</td>\n",
              "      <td>...</td>\n",
              "      <td>...</td>\n",
              "      <td>...</td>\n",
              "      <td>...</td>\n",
              "      <td>...</td>\n",
              "      <td>...</td>\n",
              "      <td>...</td>\n",
              "      <td>...</td>\n",
              "      <td>...</td>\n",
              "      <td>...</td>\n",
              "    </tr>\n",
              "    <tr>\n",
              "      <th>1995</th>\n",
              "      <td>794</td>\n",
              "      <td>1</td>\n",
              "      <td>0.5</td>\n",
              "      <td>1</td>\n",
              "      <td>0</td>\n",
              "      <td>1</td>\n",
              "      <td>2</td>\n",
              "      <td>0.8</td>\n",
              "      <td>106</td>\n",
              "      <td>6</td>\n",
              "      <td>...</td>\n",
              "      <td>1222</td>\n",
              "      <td>1890</td>\n",
              "      <td>668</td>\n",
              "      <td>13</td>\n",
              "      <td>4</td>\n",
              "      <td>19</td>\n",
              "      <td>1</td>\n",
              "      <td>1</td>\n",
              "      <td>0</td>\n",
              "      <td>0</td>\n",
              "    </tr>\n",
              "    <tr>\n",
              "      <th>1996</th>\n",
              "      <td>1965</td>\n",
              "      <td>1</td>\n",
              "      <td>2.6</td>\n",
              "      <td>1</td>\n",
              "      <td>0</td>\n",
              "      <td>0</td>\n",
              "      <td>39</td>\n",
              "      <td>0.2</td>\n",
              "      <td>187</td>\n",
              "      <td>4</td>\n",
              "      <td>...</td>\n",
              "      <td>915</td>\n",
              "      <td>1965</td>\n",
              "      <td>2032</td>\n",
              "      <td>11</td>\n",
              "      <td>10</td>\n",
              "      <td>16</td>\n",
              "      <td>1</td>\n",
              "      <td>1</td>\n",
              "      <td>1</td>\n",
              "      <td>2</td>\n",
              "    </tr>\n",
              "    <tr>\n",
              "      <th>1997</th>\n",
              "      <td>1911</td>\n",
              "      <td>0</td>\n",
              "      <td>0.9</td>\n",
              "      <td>1</td>\n",
              "      <td>1</td>\n",
              "      <td>1</td>\n",
              "      <td>36</td>\n",
              "      <td>0.7</td>\n",
              "      <td>108</td>\n",
              "      <td>8</td>\n",
              "      <td>...</td>\n",
              "      <td>868</td>\n",
              "      <td>1632</td>\n",
              "      <td>3057</td>\n",
              "      <td>9</td>\n",
              "      <td>1</td>\n",
              "      <td>5</td>\n",
              "      <td>1</td>\n",
              "      <td>1</td>\n",
              "      <td>0</td>\n",
              "      <td>3</td>\n",
              "    </tr>\n",
              "    <tr>\n",
              "      <th>1998</th>\n",
              "      <td>1512</td>\n",
              "      <td>0</td>\n",
              "      <td>0.9</td>\n",
              "      <td>0</td>\n",
              "      <td>4</td>\n",
              "      <td>1</td>\n",
              "      <td>46</td>\n",
              "      <td>0.1</td>\n",
              "      <td>145</td>\n",
              "      <td>5</td>\n",
              "      <td>...</td>\n",
              "      <td>336</td>\n",
              "      <td>670</td>\n",
              "      <td>869</td>\n",
              "      <td>18</td>\n",
              "      <td>10</td>\n",
              "      <td>19</td>\n",
              "      <td>1</td>\n",
              "      <td>1</td>\n",
              "      <td>1</td>\n",
              "      <td>0</td>\n",
              "    </tr>\n",
              "    <tr>\n",
              "      <th>1999</th>\n",
              "      <td>510</td>\n",
              "      <td>1</td>\n",
              "      <td>2.0</td>\n",
              "      <td>1</td>\n",
              "      <td>5</td>\n",
              "      <td>1</td>\n",
              "      <td>45</td>\n",
              "      <td>0.9</td>\n",
              "      <td>168</td>\n",
              "      <td>6</td>\n",
              "      <td>...</td>\n",
              "      <td>483</td>\n",
              "      <td>754</td>\n",
              "      <td>3919</td>\n",
              "      <td>19</td>\n",
              "      <td>4</td>\n",
              "      <td>2</td>\n",
              "      <td>1</td>\n",
              "      <td>1</td>\n",
              "      <td>1</td>\n",
              "      <td>3</td>\n",
              "    </tr>\n",
              "  </tbody>\n",
              "</table>\n",
              "<p>2000 rows × 21 columns</p>\n",
              "</div>\n",
              "      <button class=\"colab-df-convert\" onclick=\"convertToInteractive('df-3727576a-794d-41d4-b0b4-3cd325485507')\"\n",
              "              title=\"Convert this dataframe to an interactive table.\"\n",
              "              style=\"display:none;\">\n",
              "        \n",
              "  <svg xmlns=\"http://www.w3.org/2000/svg\" height=\"24px\"viewBox=\"0 0 24 24\"\n",
              "       width=\"24px\">\n",
              "    <path d=\"M0 0h24v24H0V0z\" fill=\"none\"/>\n",
              "    <path d=\"M18.56 5.44l.94 2.06.94-2.06 2.06-.94-2.06-.94-.94-2.06-.94 2.06-2.06.94zm-11 1L8.5 8.5l.94-2.06 2.06-.94-2.06-.94L8.5 2.5l-.94 2.06-2.06.94zm10 10l.94 2.06.94-2.06 2.06-.94-2.06-.94-.94-2.06-.94 2.06-2.06.94z\"/><path d=\"M17.41 7.96l-1.37-1.37c-.4-.4-.92-.59-1.43-.59-.52 0-1.04.2-1.43.59L10.3 9.45l-7.72 7.72c-.78.78-.78 2.05 0 2.83L4 21.41c.39.39.9.59 1.41.59.51 0 1.02-.2 1.41-.59l7.78-7.78 2.81-2.81c.8-.78.8-2.07 0-2.86zM5.41 20L4 18.59l7.72-7.72 1.47 1.35L5.41 20z\"/>\n",
              "  </svg>\n",
              "      </button>\n",
              "      \n",
              "  <style>\n",
              "    .colab-df-container {\n",
              "      display:flex;\n",
              "      flex-wrap:wrap;\n",
              "      gap: 12px;\n",
              "    }\n",
              "\n",
              "    .colab-df-convert {\n",
              "      background-color: #E8F0FE;\n",
              "      border: none;\n",
              "      border-radius: 50%;\n",
              "      cursor: pointer;\n",
              "      display: none;\n",
              "      fill: #1967D2;\n",
              "      height: 32px;\n",
              "      padding: 0 0 0 0;\n",
              "      width: 32px;\n",
              "    }\n",
              "\n",
              "    .colab-df-convert:hover {\n",
              "      background-color: #E2EBFA;\n",
              "      box-shadow: 0px 1px 2px rgba(60, 64, 67, 0.3), 0px 1px 3px 1px rgba(60, 64, 67, 0.15);\n",
              "      fill: #174EA6;\n",
              "    }\n",
              "\n",
              "    [theme=dark] .colab-df-convert {\n",
              "      background-color: #3B4455;\n",
              "      fill: #D2E3FC;\n",
              "    }\n",
              "\n",
              "    [theme=dark] .colab-df-convert:hover {\n",
              "      background-color: #434B5C;\n",
              "      box-shadow: 0px 1px 3px 1px rgba(0, 0, 0, 0.15);\n",
              "      filter: drop-shadow(0px 1px 2px rgba(0, 0, 0, 0.3));\n",
              "      fill: #FFFFFF;\n",
              "    }\n",
              "  </style>\n",
              "\n",
              "      <script>\n",
              "        const buttonEl =\n",
              "          document.querySelector('#df-3727576a-794d-41d4-b0b4-3cd325485507 button.colab-df-convert');\n",
              "        buttonEl.style.display =\n",
              "          google.colab.kernel.accessAllowed ? 'block' : 'none';\n",
              "\n",
              "        async function convertToInteractive(key) {\n",
              "          const element = document.querySelector('#df-3727576a-794d-41d4-b0b4-3cd325485507');\n",
              "          const dataTable =\n",
              "            await google.colab.kernel.invokeFunction('convertToInteractive',\n",
              "                                                     [key], {});\n",
              "          if (!dataTable) return;\n",
              "\n",
              "          const docLinkHtml = 'Like what you see? Visit the ' +\n",
              "            '<a target=\"_blank\" href=https://colab.research.google.com/notebooks/data_table.ipynb>data table notebook</a>'\n",
              "            + ' to learn more about interactive tables.';\n",
              "          element.innerHTML = '';\n",
              "          dataTable['output_type'] = 'display_data';\n",
              "          await google.colab.output.renderOutput(dataTable, element);\n",
              "          const docLink = document.createElement('div');\n",
              "          docLink.innerHTML = docLinkHtml;\n",
              "          element.appendChild(docLink);\n",
              "        }\n",
              "      </script>\n",
              "    </div>\n",
              "  </div>\n",
              "  "
            ]
          },
          "metadata": {},
          "execution_count": 4
        }
      ]
    },
    {
      "cell_type": "markdown",
      "source": [
        "### Question 1\n",
        "\n",
        "The data for this project is ‘mobile.csv,’ and the goal is to predict the device's price range given the mobile device characteristics. You will implement different classifiers, including Logistic Regression, Support Vector Machines, K-Nearest neighbors, and Random Forest.\n",
        "\n",
        "    Create one single train/test split with a test size of 30% of the total number of observations and a random_state=123. You will decide if you need to properly scale the data, fit each classifier on the train set, and measure the test's overall accuracy. For each classifier that requires method-specific hyper-parameters, you will determine the best choice from the following ranges:\n",
        "\n",
        "\n",
        "    Logistic Regression: no need to tune anything. Take solver=‘lbfgs’ and max_iter=10000.’\n",
        "    Support Vector Machine - polynomial kernel. Test degrees 1,2 and 3 and a range for C between 1 and 75 with increments of 0.5\n",
        "    Support Vector Machine - radially basis kernel. Test gamma between 0.0005 and 0.01 in 0.0001 increments and a range for C between 1 and 75 with increments of 0.5\n",
        "    K-Nearest neighbors - test the performance for any number of neighbors between 3 and 125. The weights could be either ‘uniform’ or ‘distance.’\n",
        "    Random Forest - test the performance for any number of trees between 10 and 500 and the max depth for any value between 3 and 100.\n",
        "\n",
        "\n",
        "After determining the best choice of hyperparameters for each method, show confusion matrices with the best results."
      ],
      "metadata": {
        "id": "h6hLSvyx5wuu"
      }
    },
    {
      "cell_type": "code",
      "source": [
        "from sklearn.linear_model import LogisticRegression\n",
        "from sklearn.metrics import accuracy_score, confusion_matrix as CM"
      ],
      "metadata": {
        "id": "qeUYkpbj6bxg"
      },
      "execution_count": null,
      "outputs": []
    },
    {
      "cell_type": "code",
      "source": [
        "X = mob.iloc[:,:-1].values\n",
        "y = mob.iloc[:,-1].values"
      ],
      "metadata": {
        "id": "o3e49Ob-iSAW"
      },
      "execution_count": null,
      "outputs": []
    },
    {
      "cell_type": "code",
      "source": [
        "xTrain, xTest, yTrain, yTest = train_test_split(X, y, test_size=0.3, random_state=123)"
      ],
      "metadata": {
        "id": "1Lb01afn52Bt"
      },
      "execution_count": null,
      "outputs": []
    },
    {
      "cell_type": "code",
      "source": [
        "scale = StandardScaler()"
      ],
      "metadata": {
        "id": "_kvw_txzHm-X"
      },
      "execution_count": null,
      "outputs": []
    },
    {
      "cell_type": "code",
      "source": [
        "xTrain_scaled = scale.fit_transform(xTrain)\n",
        "xTest_scaled = scale.transform(xTest)"
      ],
      "metadata": {
        "id": "-LWbb_M2Hg1o"
      },
      "execution_count": null,
      "outputs": []
    },
    {
      "cell_type": "code",
      "source": [
        "#Logisitic Regression\n",
        "model = LogisticRegression(solver='lbfgs', max_iter = 10000)\n",
        "model.fit(xTrain, yTrain)\n",
        "model.score(xTest, yTest)\n",
        "yPred = model.predict(xTest)\n",
        "cm = confusion_matrix(yTest, yPred)\n",
        "cm, model.score(xTest, yTest)"
      ],
      "metadata": {
        "colab": {
          "base_uri": "https://localhost:8080/"
        },
        "id": "NwLhJ74Ji8Bv",
        "outputId": "31714ea7-0182-45ff-8d30-fdaa45abd8ae"
      },
      "execution_count": null,
      "outputs": [
        {
          "output_type": "stream",
          "name": "stderr",
          "text": [
            "/usr/local/lib/python3.9/dist-packages/sklearn/linear_model/_logistic.py:458: ConvergenceWarning: lbfgs failed to converge (status=1):\n",
            "STOP: TOTAL NO. of ITERATIONS REACHED LIMIT.\n",
            "\n",
            "Increase the number of iterations (max_iter) or scale the data as shown in:\n",
            "    https://scikit-learn.org/stable/modules/preprocessing.html\n",
            "Please also refer to the documentation for alternative solver options:\n",
            "    https://scikit-learn.org/stable/modules/linear_model.html#logistic-regression\n",
            "  n_iter_i = _check_optimize_result(\n"
          ]
        },
        {
          "output_type": "execute_result",
          "data": {
            "text/plain": [
              "(array([[130,  18,   0,   0],\n",
              "        [ 20, 102,  28,   4],\n",
              "        [  0,  24,  96,  43],\n",
              "        [  0,   0,  15, 120]]),\n",
              " 0.7466666666666667)"
            ]
          },
          "metadata": {},
          "execution_count": 20
        }
      ]
    },
    {
      "cell_type": "code",
      "source": [
        "#SVM polynomial\n",
        "from sklearn.svm import SVR\n",
        "cVal = np.arange(1, 75, 0.5)\n",
        "prev1 = 0\n",
        "prev2 = 0\n",
        "prev3 = 0\n",
        "#For degree 1\n",
        "for C in cVal:\n",
        "  model = SVR(kernel = 'poly', degree = 1, C = C)\n",
        "  model.fit(xTrain, yTrain)\n",
        "  if model.score(xTest, yTest) > prev1:\n",
        "    prev1 = model.score(xTest, yTest)\n",
        "    cBest1 = C\n",
        "print(prev1)\n",
        "print(cBest1)\n",
        "#for degree 2\n",
        "for C in cVal:\n",
        "  model = SVR(kernel = 'poly', degree = 2, C = C)\n",
        "  model.fit(xTrain, yTrain)\n",
        "  if model.score(xTest, yTest) > prev2:\n",
        "    prev2 = model.score(xTest, yTest)\n",
        "    cBest2 = C\n",
        "print(prev2)\n",
        "print(cBest2)\n",
        "#For degree 3\n",
        "for C in cVal:\n",
        "  model = SVR(kernel = 'poly', degree = 3, C = C)\n",
        "  model.fit(xTrain, yTrain)\n",
        "  if model.score(xTest, yTest) > prev3:\n",
        "    prev3 = model.score(xTest, yTest)\n",
        "    cBest3 = C\n",
        "print(prev3)\n",
        "print(cBest3)"
      ],
      "metadata": {
        "colab": {
          "base_uri": "https://localhost:8080/"
        },
        "id": "DWcG47sr7kGc",
        "outputId": "98ba3498-b839-4695-fa78-334b633dec5d"
      },
      "execution_count": null,
      "outputs": [
        {
          "output_type": "stream",
          "name": "stdout",
          "text": [
            "0.9145018487118254\n",
            "7.0\n",
            "0.8879946130018794\n",
            "74.5\n",
            "0.8507910628396481\n",
            "74.5\n"
          ]
        }
      ]
    },
    {
      "cell_type": "code",
      "source": [
        "#Most accurate is first degree with C = 7\n",
        "from sklearn.svm import SVR\n",
        "model = SVR(kernel = 'poly', degree = 1, C = 7)\n",
        "model.fit(xTrain, yTrain)\n",
        "model.score(xTest, yTest)\n",
        "yPred = model.predict(xTest).round()\n",
        "cm = confusion_matrix(yTest, yPred)\n",
        "cm"
      ],
      "metadata": {
        "colab": {
          "base_uri": "https://localhost:8080/"
        },
        "id": "-rUd578mvDp4",
        "outputId": "95fce3c4-f928-4b93-d211-bcb554624094"
      },
      "execution_count": null,
      "outputs": [
        {
          "output_type": "execute_result",
          "data": {
            "text/plain": [
              "array([[  0,   0,   0,   0,   0,   0],\n",
              "       [  7, 129,  12,   0,   0,   0],\n",
              "       [  0,   2, 149,   3,   0,   0],\n",
              "       [  0,   0,  12, 148,   3,   0],\n",
              "       [  0,   0,   0,  19, 106,  10],\n",
              "       [  0,   0,   0,   0,   0,   0]])"
            ]
          },
          "metadata": {},
          "execution_count": 15
        }
      ]
    },
    {
      "cell_type": "code",
      "source": [
        "#SVM radial\n",
        "from sklearn.svm import SVR\n",
        "cVal = np.arange(1, 75, 0.5)\n",
        "gamVal = np.arange(0.0005, 0.01, 0.0001)\n",
        "prev = 0\n",
        "for C in cVal:\n",
        "  for gamma in gamVal:\n",
        "    model = SVR(kernel = 'rbf', C = C, gamma = gamma)\n",
        "    model.fit(xTrain, yTrain)\n",
        "    if model.score(xTest, yTest) > prev:\n",
        "      prev = model.score(xTest, yTest)\n",
        "      cBest = C\n",
        "      gBest = gamma\n",
        "print(prev)\n",
        "print(cBest)\n",
        "print(gBest)"
      ],
      "metadata": {
        "colab": {
          "base_uri": "https://localhost:8080/"
        },
        "id": "ba8yqbk_7kEb",
        "outputId": "62e682f2-ec0c-474d-e365-4f1027fad2f2"
      },
      "execution_count": null,
      "outputs": [
        {
          "output_type": "stream",
          "name": "stdout",
          "text": [
            "0.000614604717903422\n",
            "1.5\n",
            "0.0005\n"
          ]
        }
      ]
    },
    {
      "cell_type": "code",
      "source": [
        "#Most accurate model is when C = 1.5 and gamma = 0.0005\n",
        "from sklearn.svm import SVR\n",
        "model = SVR(kernel = 'rbf', C = 1.5, gamma = 0.0005)\n",
        "model.fit(xTrain, yTrain)\n",
        "model.score(xTest, yTest)\n",
        "yPred = model.predict(xTest).round()\n",
        "cm = confusion_matrix(yTest, yPred)\n",
        "cm"
      ],
      "metadata": {
        "colab": {
          "base_uri": "https://localhost:8080/"
        },
        "id": "16Wn6uOpTEo3",
        "outputId": "b9146a69-ac25-4ccb-b8bb-cdb990d7029f"
      },
      "execution_count": null,
      "outputs": [
        {
          "output_type": "execute_result",
          "data": {
            "text/plain": [
              "array([[  0,   1, 147,   0],\n",
              "       [  0,   1, 153,   0],\n",
              "       [  0,   0, 163,   0],\n",
              "       [  0,   0, 135,   0]])"
            ]
          },
          "metadata": {},
          "execution_count": 18
        }
      ]
    },
    {
      "cell_type": "code",
      "source": [
        "#K-nearest neighbors\n",
        "from sklearn import neighbors\n",
        "prev = 0\n",
        "for i in range(3, 126):\n",
        "  model = neighbors.KNeighborsClassifier(n_neighbors = i, weights= 'uniform')\n",
        "  model.fit(xTrain, yTrain)\n",
        "  if model.score(xTest, yTest) > prev:\n",
        "    prev = model.score(xTest, yTest)\n",
        "    nBest = i\n",
        "print(prev)\n",
        "print(nBest)"
      ],
      "metadata": {
        "colab": {
          "base_uri": "https://localhost:8080/"
        },
        "id": "4XSgp7pL7kBt",
        "outputId": "f7aa8b0b-5ebf-4abf-ef53-dabd3ae73149"
      },
      "execution_count": null,
      "outputs": [
        {
          "output_type": "stream",
          "name": "stdout",
          "text": [
            "0.94\n",
            "7\n"
          ]
        }
      ]
    },
    {
      "cell_type": "code",
      "source": [
        "#Most accurate is neighbors = 7\n",
        "from sklearn import neighbors\n",
        "model = neighbors.KNeighborsClassifier(n_neighbors = 7, weights= 'uniform')\n",
        "model.fit(xTrain, yTrain)\n",
        "model.score(xTest, yTest)\n",
        "yPred = model.predict(xTest)\n",
        "cm = confusion_matrix(yTest, yPred)\n",
        "cm"
      ],
      "metadata": {
        "colab": {
          "base_uri": "https://localhost:8080/"
        },
        "id": "zj3pjb9XTtxK",
        "outputId": "12e6c9f4-7556-4b49-e9ef-2a0a2c9ed021"
      },
      "execution_count": null,
      "outputs": [
        {
          "output_type": "execute_result",
          "data": {
            "text/plain": [
              "array([[145,   3,   0,   0],\n",
              "       [  4, 148,   2,   0],\n",
              "       [  0,   6, 144,  13],\n",
              "       [  0,   0,   8, 127]])"
            ]
          },
          "metadata": {},
          "execution_count": 19
        }
      ]
    },
    {
      "cell_type": "code",
      "source": [
        "#Random Forest\n",
        "#Random Forest\n",
        "from sklearn.ensemble import RandomForestClassifier\n",
        "from sklearn.model_selection import KFold\n",
        "num = np.arange(10, 501)\n",
        "depth = np.arange(3, 101)\n",
        "h_names = ['n_estimators','max_depth']\n",
        "model = RandomForestClassifier(random_state = 123)"
      ],
      "metadata": {
        "id": "rAh9Dcf97j-Z"
      },
      "execution_count": null,
      "outputs": []
    },
    {
      "cell_type": "code",
      "source": [
        "def GS_Anneal(model,h_names,h1,h2,xtrain,ytrain,xtest,ytest): # h_names means the names of the hyperparameters\n",
        "  # Here we have an implementation of Simmulated Annealing in Two Dimensions\n",
        "  MIN_IND1 = 0\n",
        "  MAX_IND1 = len(h1)\n",
        "  MIN_IND2 = 0\n",
        "  MAX_IND2 = len(h2)\n",
        "  STEP_SIZE = 7    # Std of gaussian steps\n",
        "  COOLING = 0.98    # T_{n+1} = T_{n}*COOLING, i.e. geometric cooling\n",
        "  def cost_function(model):\n",
        "    #pipe = Pipeline([['Scale',scale],['Model',model]])\n",
        "    #k_fold = cross_val_score(estimator=model,X=x,y=y,cv=10,scoring='neg_mean_squared_error')\n",
        "    model.fit(xtrain,ytrain)\n",
        "    return 1 - model.score(xtest,ytest)\n",
        "\n",
        "\n",
        "  def random_start():\n",
        "      i = np.random.randint(MIN_IND1,MAX_IND1-1)\n",
        "      j = np.random.randint(MIN_IND2,MAX_IND2-1)\n",
        "      pos = [i,j]\n",
        "      return pos\n",
        "\n",
        "\n",
        "  def random_neighbour(pos,T):\n",
        "      i = pos[0]\n",
        "      j = pos[1]\n",
        "      raw_i = np.random.normal()*STEP_SIZE*T\n",
        "      delta_i = np.floor(raw_i).astype(int)\n",
        "      raw_j = np.random.normal()*STEP_SIZE*T\n",
        "      delta_j = np.floor(raw_j).astype(int)\n",
        "      if (delta_i == 0) & (delta_j == 0):\n",
        "        delta_i = np.sign(raw_i).astype(int)\n",
        "        delta_j = np.sign(raw_j).astype(int)\n",
        "      new_i = min(MAX_IND1-1, max(MIN_IND1, i+delta_i))\n",
        "      new_j = min(MAX_IND2-1, max(MIN_IND2, j+delta_j))\n",
        "      new_pos = [new_i,new_j]\n",
        "      return new_pos\n",
        "\n",
        "\n",
        "  def acceptance_probability(cost, new_cost, temperature):\n",
        "      if new_cost < cost:\n",
        "          return 1\n",
        "      else:\n",
        "          p = np.exp(-(new_cost - cost) / temperature)\n",
        "          return p\n",
        "\n",
        "\n",
        "  def locate_min(a):\n",
        "      smallest = min(a)\n",
        "      return smallest, [index for index, element in enumerate(a) if smallest == element]\n",
        "\n",
        "  def annealing(pos0 = random_start()):\n",
        "      # Start with a random configuration\n",
        "      # alpha = random_start()\n",
        "      i = pos0[0]\n",
        "      j = pos0[1]\n",
        "      # All layers will have the same number of nodes (keep the example from getting too complicated)\n",
        "      model.set_params(**{list(h_names)[0]:h1[i-1],list(h_names)[1]:h2[j-1]})\n",
        "\n",
        "      # Compute the cost function (in this case, 1-accuracy)\n",
        "      cost = cost_function(model)\n",
        "\n",
        "      # Keep lists of results, start with the current\n",
        "      states1, states2, costs = [h1[i-1]], [h2[j-1]], [cost]\n",
        "      T = 1\n",
        "      pos = pos0\n",
        "      while T > 1e-10:\n",
        "          new_pos = random_neighbour(pos,T)\n",
        "          i = new_pos[0]\n",
        "          j = new_pos[1]\n",
        "          model.set_params(**{list(h_names)[0]:h1[i-1],list(h_names)[1]:h2[j-1]})\n",
        "          new_cost = cost_function(model)\n",
        "          if acceptance_probability(cost, new_cost, T) > np.random.random():\n",
        "              cost = new_cost\n",
        "              pos = new_pos\n",
        "              states1.append(h1[pos[0]])\n",
        "              states2.append(h2[pos[1]])\n",
        "              costs.append(cost)\n",
        "          T = T*COOLING\n",
        "      return model,np.column_stack([states1,states2]),costs\n",
        "  m,states,costs = annealing()\n",
        "  return states, costs"
      ],
      "metadata": {
        "id": "TQkgL9q3aVkz"
      },
      "execution_count": null,
      "outputs": []
    },
    {
      "cell_type": "code",
      "source": [
        "states, costs = GS_Anneal(model, h_names, num, depth, xTrain, yTrain, xTest, yTest)"
      ],
      "metadata": {
        "id": "by_gG90w7jz4"
      },
      "execution_count": null,
      "outputs": []
    },
    {
      "cell_type": "code",
      "source": [
        "best = np.argmax(costs)\n",
        "best #25\n",
        "states[25]\n",
        "#Best is 397 nodes and depth of 4"
      ],
      "metadata": {
        "colab": {
          "base_uri": "https://localhost:8080/"
        },
        "id": "ug3Oc9bwbCJ7",
        "outputId": "73b35a52-f445-4632-af8c-59cc88d30be6"
      },
      "execution_count": null,
      "outputs": [
        {
          "output_type": "execute_result",
          "data": {
            "text/plain": [
              "array([397,   4])"
            ]
          },
          "metadata": {},
          "execution_count": 86
        }
      ]
    },
    {
      "cell_type": "code",
      "source": [
        "model = RandomForestClassifier(random_state = 123, max_depth = 4, n_estimators = 397)\n",
        "model.fit(xTrain, yTrain)\n",
        "yPred = model.predict(xTest)\n",
        "cm = confusion_matrix(yTest, yPred)\n",
        "cm, model.score(xTest, yTest)"
      ],
      "metadata": {
        "colab": {
          "base_uri": "https://localhost:8080/"
        },
        "id": "8tCY48RBc9Ip",
        "outputId": "f0ffd2b5-d50d-4eb0-c4c7-1d008ccab0e2"
      },
      "execution_count": null,
      "outputs": [
        {
          "output_type": "execute_result",
          "data": {
            "text/plain": [
              "(array([[143,   5,   0,   0],\n",
              "        [ 20, 112,  22,   0],\n",
              "        [  0,  34,  86,  43],\n",
              "        [  0,   0,   3, 132]]),\n",
              " 0.7883333333333333)"
            ]
          },
          "metadata": {},
          "execution_count": 89
        }
      ]
    },
    {
      "cell_type": "markdown",
      "source": [
        "### Question 2\n",
        "\n",
        "2. Repeat all the steps from 1) with complete 5-Fold cross-validations, report the choice of the best hyperparameters found, and rank the different methods according to the overall cross-validated accuracy.\n",
        "\n"
      ],
      "metadata": {
        "id": "vQNZVx0p_jk1"
      }
    },
    {
      "cell_type": "code",
      "source": [
        "#Logisitic Regression, no need to tune hyperparameters\n",
        "from sklearn.model_selection import cross_val_score\n",
        "model = LogisticRegression(solver='lbfgs', max_iter = 10000)\n",
        "model.fit(xTrain, yTrain)\n",
        "model.score(xTest, yTest)\n",
        "yPred = model.predict(xTest)\n",
        "cm = confusion_matrix(yTest, yPred)\n",
        "kF = KFold(n_splits=5, shuffle=True, random_state=123)\n",
        "scores = cross_val_score(model, X, y, cv=kF)\n",
        "cm, np.mean(scores)"
      ],
      "metadata": {
        "colab": {
          "base_uri": "https://localhost:8080/"
        },
        "id": "AMq_9su6_jLg",
        "outputId": "44f3d2ff-a7dd-4bd6-c480-5b3b5f10727b"
      },
      "execution_count": null,
      "outputs": [
        {
          "output_type": "stream",
          "name": "stderr",
          "text": [
            "/usr/local/lib/python3.9/dist-packages/sklearn/linear_model/_logistic.py:458: ConvergenceWarning: lbfgs failed to converge (status=1):\n",
            "STOP: TOTAL NO. of ITERATIONS REACHED LIMIT.\n",
            "\n",
            "Increase the number of iterations (max_iter) or scale the data as shown in:\n",
            "    https://scikit-learn.org/stable/modules/preprocessing.html\n",
            "Please also refer to the documentation for alternative solver options:\n",
            "    https://scikit-learn.org/stable/modules/linear_model.html#logistic-regression\n",
            "  n_iter_i = _check_optimize_result(\n",
            "/usr/local/lib/python3.9/dist-packages/sklearn/linear_model/_logistic.py:458: ConvergenceWarning: lbfgs failed to converge (status=1):\n",
            "STOP: TOTAL NO. of ITERATIONS REACHED LIMIT.\n",
            "\n",
            "Increase the number of iterations (max_iter) or scale the data as shown in:\n",
            "    https://scikit-learn.org/stable/modules/preprocessing.html\n",
            "Please also refer to the documentation for alternative solver options:\n",
            "    https://scikit-learn.org/stable/modules/linear_model.html#logistic-regression\n",
            "  n_iter_i = _check_optimize_result(\n",
            "/usr/local/lib/python3.9/dist-packages/sklearn/linear_model/_logistic.py:458: ConvergenceWarning: lbfgs failed to converge (status=1):\n",
            "STOP: TOTAL NO. of ITERATIONS REACHED LIMIT.\n",
            "\n",
            "Increase the number of iterations (max_iter) or scale the data as shown in:\n",
            "    https://scikit-learn.org/stable/modules/preprocessing.html\n",
            "Please also refer to the documentation for alternative solver options:\n",
            "    https://scikit-learn.org/stable/modules/linear_model.html#logistic-regression\n",
            "  n_iter_i = _check_optimize_result(\n",
            "/usr/local/lib/python3.9/dist-packages/sklearn/linear_model/_logistic.py:458: ConvergenceWarning: lbfgs failed to converge (status=1):\n",
            "STOP: TOTAL NO. of ITERATIONS REACHED LIMIT.\n",
            "\n",
            "Increase the number of iterations (max_iter) or scale the data as shown in:\n",
            "    https://scikit-learn.org/stable/modules/preprocessing.html\n",
            "Please also refer to the documentation for alternative solver options:\n",
            "    https://scikit-learn.org/stable/modules/linear_model.html#logistic-regression\n",
            "  n_iter_i = _check_optimize_result(\n",
            "/usr/local/lib/python3.9/dist-packages/sklearn/linear_model/_logistic.py:458: ConvergenceWarning: lbfgs failed to converge (status=1):\n",
            "STOP: TOTAL NO. of ITERATIONS REACHED LIMIT.\n",
            "\n",
            "Increase the number of iterations (max_iter) or scale the data as shown in:\n",
            "    https://scikit-learn.org/stable/modules/preprocessing.html\n",
            "Please also refer to the documentation for alternative solver options:\n",
            "    https://scikit-learn.org/stable/modules/linear_model.html#logistic-regression\n",
            "  n_iter_i = _check_optimize_result(\n",
            "/usr/local/lib/python3.9/dist-packages/sklearn/linear_model/_logistic.py:458: ConvergenceWarning: lbfgs failed to converge (status=1):\n",
            "STOP: TOTAL NO. of ITERATIONS REACHED LIMIT.\n",
            "\n",
            "Increase the number of iterations (max_iter) or scale the data as shown in:\n",
            "    https://scikit-learn.org/stable/modules/preprocessing.html\n",
            "Please also refer to the documentation for alternative solver options:\n",
            "    https://scikit-learn.org/stable/modules/linear_model.html#logistic-regression\n",
            "  n_iter_i = _check_optimize_result(\n"
          ]
        },
        {
          "output_type": "execute_result",
          "data": {
            "text/plain": [
              "(array([[130,  18,   0,   0],\n",
              "        [ 20, 102,  28,   4],\n",
              "        [  0,  24,  96,  43],\n",
              "        [  0,   0,  15, 120]]),\n",
              " 0.7630000000000001)"
            ]
          },
          "metadata": {},
          "execution_count": 90
        }
      ]
    },
    {
      "cell_type": "code",
      "source": [
        "#overall accuracy = 76.3%"
      ],
      "metadata": {
        "id": "QnLPeWzv1tZG"
      },
      "execution_count": null,
      "outputs": []
    },
    {
      "cell_type": "code",
      "source": [
        "#SVM polynomial\n",
        "from sklearn.svm import SVR\n",
        "from sklearn.model_selection import GridSearchCV, KFold\n",
        "#Degree 1\n",
        "cVal = np.arange(1, 75, 0.5)\n",
        "param_grid = {'C': cVal}\n",
        "model = SVR(kernel = 'poly', degree = 1)\n",
        "grid_search = GridSearchCV(model, param_grid=param_grid, cv=KFold(n_splits=5, shuffle=True, random_state=123))\n",
        "grid_search.fit(X, y)\n",
        "print(\"Best hyperparameters found:\", grid_search.best_params_)"
      ],
      "metadata": {
        "colab": {
          "base_uri": "https://localhost:8080/"
        },
        "id": "2JGLZsYc2MlM",
        "outputId": "0a5b2695-2634-44a6-b5cb-4634d0114052"
      },
      "execution_count": null,
      "outputs": [
        {
          "output_type": "stream",
          "name": "stdout",
          "text": [
            "Best hyperparameters found: {'C': 13.5}\n"
          ]
        }
      ]
    },
    {
      "cell_type": "code",
      "source": [
        "model = SVR(kernel = 'poly', degree = 1, C = 13.5)\n",
        "kF = KFold(n_splits=5, shuffle=True, random_state=123)\n",
        "scores = cross_val_score(model, X, y, cv=kF)\n",
        "np.mean(scores) #91.69% accuracy"
      ],
      "metadata": {
        "colab": {
          "base_uri": "https://localhost:8080/"
        },
        "id": "nk3buwl893cm",
        "outputId": "5631e912-212b-4058-d200-bbbcde3041de"
      },
      "execution_count": null,
      "outputs": [
        {
          "output_type": "execute_result",
          "data": {
            "text/plain": [
              "0.91691119922708"
            ]
          },
          "metadata": {},
          "execution_count": 67
        }
      ]
    },
    {
      "cell_type": "code",
      "source": [
        "model.fit(xTest, yTest)\n",
        "yPred = model.predict(xTest).round()\n",
        "cm = confusion_matrix(yTest, yPred)\n",
        "cm"
      ],
      "metadata": {
        "colab": {
          "base_uri": "https://localhost:8080/"
        },
        "id": "lAjadUdlXQY9",
        "outputId": "0db83632-19b2-4645-ab92-7af2bad3bf75"
      },
      "execution_count": null,
      "outputs": [
        {
          "output_type": "execute_result",
          "data": {
            "text/plain": [
              "array([[  0,   0,   0,   0,   0,   0],\n",
              "       [  8, 125,  15,   0,   0,   0],\n",
              "       [  0,   1, 152,   1,   0,   0],\n",
              "       [  0,   0,  10, 153,   0,   0],\n",
              "       [  0,   0,   0,  26, 100,   9],\n",
              "       [  0,   0,   0,   0,   0,   0]])"
            ]
          },
          "metadata": {},
          "execution_count": 69
        }
      ]
    },
    {
      "cell_type": "code",
      "source": [
        "#Degree 2\n",
        "cVal = np.arange(1, 75, 0.5)\n",
        "param_grid = {'C': cVal}\n",
        "model = SVR(kernel = 'poly', degree = 2)\n",
        "grid_search = GridSearchCV(model, param_grid=param_grid, cv=KFold(n_splits=5, shuffle=True, random_state=123))\n",
        "grid_search.fit(X, y)\n",
        "print(\"Best hyperparameters found:\", grid_search.best_params_)"
      ],
      "metadata": {
        "colab": {
          "base_uri": "https://localhost:8080/"
        },
        "id": "c7q-opbL2Mh7",
        "outputId": "a4aaff4d-1393-4f6f-d279-8071a8b6f4d5"
      },
      "execution_count": null,
      "outputs": [
        {
          "output_type": "stream",
          "name": "stdout",
          "text": [
            "Best hyperparameters found: {'C': 74.5}\n"
          ]
        }
      ]
    },
    {
      "cell_type": "code",
      "source": [
        "from sklearn.svm import SVR\n",
        "model = SVR(kernel = 'poly', degree = 2, C = 74.5)\n",
        "kF = KFold(n_splits=5, shuffle=True, random_state=123)\n",
        "scores = cross_val_score(model, X, y, cv=kF)\n",
        "np.mean(scores)  #89.19% accuracy"
      ],
      "metadata": {
        "colab": {
          "base_uri": "https://localhost:8080/"
        },
        "id": "I7wIWgHi3e2E",
        "outputId": "8260d8ac-31b5-43a4-9b13-4533579c875c"
      },
      "execution_count": null,
      "outputs": [
        {
          "output_type": "execute_result",
          "data": {
            "text/plain": [
              "0.8919696868606932"
            ]
          },
          "metadata": {},
          "execution_count": 16
        }
      ]
    },
    {
      "cell_type": "code",
      "source": [
        "#Degree 3\n",
        "cVal = np.arange(1, 75, 0.5)\n",
        "param_grid = {'C': cVal}\n",
        "model = SVR(kernel = 'poly', degree = 3)\n",
        "grid_search = GridSearchCV(model, param_grid=param_grid, cv=KFold(n_splits=5, shuffle=True, random_state=123))\n",
        "grid_search.fit(X, y)\n",
        "print(\"Best hyperparameters found:\", grid_search.best_params_)"
      ],
      "metadata": {
        "colab": {
          "base_uri": "https://localhost:8080/"
        },
        "id": "dtu4qOe82MY4",
        "outputId": "9abc2b48-5f06-4df7-faa3-0f103bdbf9bd"
      },
      "execution_count": null,
      "outputs": [
        {
          "output_type": "stream",
          "name": "stdout",
          "text": [
            "Best hyperparameters found: {'C': 74.5}\n"
          ]
        }
      ]
    },
    {
      "cell_type": "code",
      "source": [
        "model = SVR(kernel = 'poly', degree = 3, C = 74.5)\n",
        "kF = KFold(n_splits=5, shuffle=True, random_state=123)\n",
        "scores = cross_val_score(model, X, y, cv=kF)\n",
        "np.mean(scores)  #85.69% accuracy"
      ],
      "metadata": {
        "colab": {
          "base_uri": "https://localhost:8080/"
        },
        "id": "agtMlzx34saJ",
        "outputId": "81bed71a-2dbb-4bba-9554-89c31638e9ad"
      },
      "execution_count": null,
      "outputs": [
        {
          "output_type": "execute_result",
          "data": {
            "text/plain": [
              "0.8569917744957148"
            ]
          },
          "metadata": {},
          "execution_count": 70
        }
      ]
    },
    {
      "cell_type": "code",
      "source": [
        "#The best combination of degree and hyperparameter is degree 1 and C = 13.5 with 91.69% accuracy"
      ],
      "metadata": {
        "id": "-Jd7rFGB423N"
      },
      "execution_count": null,
      "outputs": []
    },
    {
      "cell_type": "code",
      "source": [
        "model = SVR(kernel = 'poly', degree = 1, C = 13.5)\n",
        "model.fit(xTest, yTest)\n",
        "yPred = model.predict(xTest).round()\n",
        "cm = confusion_matrix(yTest, yPred)\n",
        "cm"
      ],
      "metadata": {
        "colab": {
          "base_uri": "https://localhost:8080/"
        },
        "id": "Kw1ELZRSXuVL",
        "outputId": "9481dcfd-3956-4291-f4b5-fdcac70419fa"
      },
      "execution_count": null,
      "outputs": [
        {
          "output_type": "execute_result",
          "data": {
            "text/plain": [
              "array([[  0,   0,   0,   0,   0,   0],\n",
              "       [  8, 125,  15,   0,   0,   0],\n",
              "       [  0,   1, 152,   1,   0,   0],\n",
              "       [  0,   0,  10, 153,   0,   0],\n",
              "       [  0,   0,   0,  26, 100,   9],\n",
              "       [  0,   0,   0,   0,   0,   0]])"
            ]
          },
          "metadata": {},
          "execution_count": 72
        }
      ]
    },
    {
      "cell_type": "code",
      "source": [
        "#SVM Radial\n",
        "from sklearn.svm import SVR\n",
        "from sklearn.model_selection import GridSearchCV, KFold\n",
        "cVal = np.arange(1, 10, 0.5)\n",
        "gamVal = np.arange(0.0005, 0.001, 0.0001)\n",
        "param_grid = {'C': cVal, 'gamma': gamVal}\n",
        "model = SVR(kernel = 'rbf')\n",
        "grid_search = GridSearchCV(model, param_grid = param_grid, cv = KFold(n_splits=5, shuffle=True, random_state=123))\n",
        "grid_search.fit(X, y)\n",
        "print(\"Best hyperparameters found:\", grid_search.best_params_)"
      ],
      "metadata": {
        "colab": {
          "base_uri": "https://localhost:8080/"
        },
        "id": "rUB3peID5kQV",
        "outputId": "8ba12a59-4194-46be-fe98-eb08c6f5d45a"
      },
      "execution_count": null,
      "outputs": [
        {
          "output_type": "stream",
          "name": "stdout",
          "text": [
            "Best hyperparameters found: {'C': 1.5, 'gamma': 0.0005}\n"
          ]
        }
      ]
    },
    {
      "cell_type": "code",
      "source": [
        "model = SVR(kernel = 'rbf', C = 1.5, gamma = 0.0005)\n",
        "kF = KFold(n_splits=5, shuffle=True, random_state=123)\n",
        "scores = cross_val_score(model, X, y, cv=kF)\n",
        "np.mean(scores)  #0.16 % accuracy"
      ],
      "metadata": {
        "colab": {
          "base_uri": "https://localhost:8080/"
        },
        "id": "Iy3VN0jz5AyA",
        "outputId": "b9350489-b6ed-4db4-a43b-5553368f5ac2"
      },
      "execution_count": null,
      "outputs": [
        {
          "output_type": "execute_result",
          "data": {
            "text/plain": [
              "0.001644206331289122"
            ]
          },
          "metadata": {},
          "execution_count": 73
        }
      ]
    },
    {
      "cell_type": "code",
      "source": [
        "model.fit(xTest, yTest)\n",
        "yPred = model.predict(xTest).round()\n",
        "cm = confusion_matrix(yTest, yPred)\n",
        "cm"
      ],
      "metadata": {
        "colab": {
          "base_uri": "https://localhost:8080/"
        },
        "id": "sUcAl_92X2_z",
        "outputId": "d0be768a-9341-414c-d1f5-e9276e05305f"
      },
      "execution_count": null,
      "outputs": [
        {
          "output_type": "execute_result",
          "data": {
            "text/plain": [
              "array([[148,   0,   0,   0],\n",
              "       [  0, 154,   0,   0],\n",
              "       [  0,   0, 163,   0],\n",
              "       [  0,   0,   0, 135]])"
            ]
          },
          "metadata": {},
          "execution_count": 74
        }
      ]
    },
    {
      "cell_type": "code",
      "source": [
        "#K-Nearest Neighbors\n",
        "from sklearn import neighbors\n",
        "from sklearn.model_selection import GridSearchCV, KFold\n",
        "nNeigh = np.arange(3, 126)\n",
        "param_grid = {'n_neighbors': nNeigh}\n",
        "model = neighbors.KNeighborsClassifier(weights= 'uniform')\n",
        "grid_search = GridSearchCV(model, param_grid = param_grid, cv = KFold(n_splits=5, shuffle=True, random_state=123))\n",
        "grid_search.fit(X, y)\n",
        "print(\"Best hyperparameters found:\", grid_search.best_params_)"
      ],
      "metadata": {
        "colab": {
          "base_uri": "https://localhost:8080/"
        },
        "id": "W8g31W6I6fTD",
        "outputId": "bad39ab1-6c65-4544-a8ac-5b13674c5f89"
      },
      "execution_count": null,
      "outputs": [
        {
          "output_type": "stream",
          "name": "stdout",
          "text": [
            "Best hyperparameters found: {'n_neighbors': 19}\n"
          ]
        }
      ]
    },
    {
      "cell_type": "code",
      "source": [
        "from sklearn import neighbors\n",
        "model = neighbors.KNeighborsClassifier(n_neighbors = 19, weights= 'uniform')\n",
        "kF = KFold(n_splits=5, shuffle=True, random_state=123)\n",
        "scores = cross_val_score(model, X, y, cv=kF)\n",
        "np.mean(scores)  #93.45% accuracy"
      ],
      "metadata": {
        "colab": {
          "base_uri": "https://localhost:8080/"
        },
        "id": "ui31Y4Jv5YHb",
        "outputId": "d3acc7c0-5d71-4b98-f807-782d3cfc875f"
      },
      "execution_count": null,
      "outputs": [
        {
          "output_type": "execute_result",
          "data": {
            "text/plain": [
              "0.9345000000000001"
            ]
          },
          "metadata": {},
          "execution_count": 75
        }
      ]
    },
    {
      "cell_type": "code",
      "source": [
        "model.fit(xTest, yTest)\n",
        "yPred = model.predict(xTest).round()\n",
        "cm = confusion_matrix(yTest, yPred)\n",
        "cm"
      ],
      "metadata": {
        "colab": {
          "base_uri": "https://localhost:8080/"
        },
        "id": "MyVCRMwhX5pJ",
        "outputId": "07d6a180-b28c-4c73-ae90-52a9a9e60ed0"
      },
      "execution_count": null,
      "outputs": [
        {
          "output_type": "execute_result",
          "data": {
            "text/plain": [
              "array([[146,   2,   0,   0],\n",
              "       [  8, 144,   2,   0],\n",
              "       [  0,   9, 149,   5],\n",
              "       [  0,   0,  11, 124]])"
            ]
          },
          "metadata": {},
          "execution_count": 76
        }
      ]
    },
    {
      "cell_type": "code",
      "source": [
        "#Random Forest\n",
        "from sklearn.ensemble import RandomForestClassifier\n",
        "from sklearn.model_selection import KFold\n",
        "num = np.arange(10, 501)\n",
        "depth = np.arange(3, 101)\n",
        "h_names = ['n_estimators','max_depth']\n",
        "model = RandomForestClassifier(random_state = 123, max_depth = 4, n_estimators = 397)"
      ],
      "metadata": {
        "id": "lrPZ4H767Lsf"
      },
      "execution_count": null,
      "outputs": []
    },
    {
      "cell_type": "code",
      "source": [
        "kF = KFold(n_splits=5, shuffle=True, random_state=123)\n",
        "scores = cross_val_score(model, X, y, cv=kF)\n",
        "np.mean(scores)  #82.50% accuracy"
      ],
      "metadata": {
        "colab": {
          "base_uri": "https://localhost:8080/"
        },
        "id": "ErRc5GJmkl2T",
        "outputId": "9ec3e050-2dd9-4261-e3e9-bd4c0f3e844a"
      },
      "execution_count": null,
      "outputs": [
        {
          "output_type": "execute_result",
          "data": {
            "text/plain": [
              "0.825"
            ]
          },
          "metadata": {},
          "execution_count": 95
        }
      ]
    },
    {
      "cell_type": "code",
      "source": [
        "model.fit(xTest, yTest)\n",
        "yPred = model.predict(xTest).round()\n",
        "cm = confusion_matrix(yTest, yPred)\n",
        "cm"
      ],
      "metadata": {
        "colab": {
          "base_uri": "https://localhost:8080/"
        },
        "id": "tjE7viNOAjzp",
        "outputId": "c2398f0e-e3c5-4e9f-e768-99e58cd6ede8"
      },
      "execution_count": null,
      "outputs": [
        {
          "output_type": "execute_result",
          "data": {
            "text/plain": [
              "array([[142,   6,   0,   0],\n",
              "       [ 13, 128,  13,   0],\n",
              "       [  0,   4, 159,   0],\n",
              "       [  0,   0,   9, 126]])"
            ]
          },
          "metadata": {},
          "execution_count": 96
        }
      ]
    }
  ]
}