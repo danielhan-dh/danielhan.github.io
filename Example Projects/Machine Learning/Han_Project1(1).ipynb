{
  "nbformat": 4,
  "nbformat_minor": 0,
  "metadata": {
    "colab": {
      "provenance": []
    },
    "kernelspec": {
      "name": "python3",
      "display_name": "Python 3"
    },
    "language_info": {
      "name": "python"
    }
  },
  "cells": [
    {
      "cell_type": "markdown",
      "source": [
        "### Question 1\n",
        "1. If you are rolling 3 dice, determine the probability that the sum of the faces showing up is not equal to 12.\n",
        "---\n",
        "\n"
      ],
      "metadata": {
        "id": "iozC5raLtZ9V"
      }
    },
    {
      "cell_type": "code",
      "source": [
        "import random\n",
        "import numpy as np\n",
        "import matplotlib.pyplot as plt"
      ],
      "metadata": {
        "id": "3vip4hbYtNjK"
      },
      "execution_count": null,
      "outputs": []
    },
    {
      "cell_type": "code",
      "source": [
        "#Function to roll a 6 sided dice\n",
        "def rollDice():\n",
        "  return random.randint(1, 6)"
      ],
      "metadata": {
        "id": "RxIz9J1YtgEP"
      },
      "execution_count": null,
      "outputs": []
    },
    {
      "cell_type": "code",
      "source": [
        "#Function that rolls dice 3 times\n",
        "#Returns the total sum of results\n",
        "def roll3():\n",
        "  rolls = 0\n",
        "  rolls += rollDice()\n",
        "  rolls += rollDice()\n",
        "  rolls += rollDice()\n",
        "  return rolls"
      ],
      "metadata": {
        "id": "hGJeurxDtNpN"
      },
      "execution_count": null,
      "outputs": []
    },
    {
      "cell_type": "code",
      "source": [
        "#Calculating the probability that the sum of 3 dice rolls is not 12\n",
        "dice = []\n",
        "prob = []\n",
        "for i in range(10000):\n",
        "  dice.append(roll3())\n",
        "  prob.append(sum(np.array(dice) != 12)/(i + 1))"
      ],
      "metadata": {
        "id": "nVI6fOMPt_yD"
      },
      "execution_count": null,
      "outputs": []
    },
    {
      "cell_type": "code",
      "source": [
        "#Plotting the results of monte carlo simulation\n",
        "plt.plot(prob)\n",
        "plt.show()"
      ],
      "metadata": {
        "colab": {
          "base_uri": "https://localhost:8080/",
          "height": 265
        },
        "id": "7-_wRK8wt_7c",
        "outputId": "9d47b109-132c-423d-b0ee-38c87feb7e34"
      },
      "execution_count": null,
      "outputs": [
        {
          "output_type": "display_data",
          "data": {
            "text/plain": [
              "<Figure size 432x288 with 1 Axes>"
            ],
            "image/png": "[encoded data removed]"
          },
          "metadata": {
            "needs_background": "light"
          }
        }
      ]
    },
    {
      "cell_type": "code",
      "source": [
        "sum(np.array(dice) != 12)/(10000)\n",
        "#Around 88% probability to not get 12"
      ],
      "metadata": {
        "colab": {
          "base_uri": "https://localhost:8080/"
        },
        "id": "a6qL4_zaCZO9",
        "outputId": "71c3462e-0b1c-435b-f264-29cd659f0417"
      },
      "execution_count": null,
      "outputs": [
        {
          "output_type": "execute_result",
          "data": {
            "text/plain": [
              "0.8808"
            ]
          },
          "metadata": {},
          "execution_count": 416
        }
      ]
    },
    {
      "cell_type": "markdown",
      "source": [
        "###Question 2\n",
        "2. You're about to get on a plane to Boston. You want to know whether it is raining. You call 4 random friends of yours who live there and ask each one independently, if it's raining. The first two of your friends have a 2/3 chance of telling you the truth and, the other two have 1/5 chance of messing with you by lying. All 4 friends tell you that \"No\" it isn't raining. What is the probability that it's raining somewhere in Boston?"
      ],
      "metadata": {
        "id": "ohpx1XIQwKP8"
      }
    },
    {
      "cell_type": "code",
      "source": [
        "#Start by finding the probabilities of each friend lying"
      ],
      "metadata": {
        "id": "dQk7xPcBwNzY"
      },
      "execution_count": null,
      "outputs": []
    },
    {
      "cell_type": "code",
      "source": [
        "import random\n",
        "import numpy as np\n",
        "import matplotlib.pyplot as plt"
      ],
      "metadata": {
        "id": "7bkyPYuqxc3D"
      },
      "execution_count": null,
      "outputs": []
    },
    {
      "cell_type": "code",
      "source": [
        "#Lie is given is supposed to be given as a number between 1 - 100 that signifies the chance the friend will lie\n",
        "def friend(lie):\n",
        "  chance = random.randint(1, 100)\n",
        "  if(chance < lie): #if the randomly generated chance is within the threshold for a lie\n",
        "    return False #False for lying\n",
        "  return True"
      ],
      "metadata": {
        "id": "E4yyFWNwwOEX"
      },
      "execution_count": null,
      "outputs": []
    },
    {
      "cell_type": "code",
      "source": [
        "#Function that assigns a 50 50 chance for each friend to answer yes or no.\n",
        "#Only the circumstances where all friends answer no will the counter return\n",
        "def getNos():\n",
        "  nos = []; counter = 0\n",
        "  while(True):\n",
        "    nos.clear(); counter += 1\n",
        "    for i in range(4):\n",
        "      nos.append(random.choice([True, False]))\n",
        "    if(nos[0] == False and nos[1] == False and nos[2] == False and nos[3] == False):\n",
        "      break\n",
        "  return counter"
      ],
      "metadata": {
        "id": "kx8hQJVgwONo"
      },
      "execution_count": null,
      "outputs": []
    },
    {
      "cell_type": "code",
      "source": [
        "getNos()"
      ],
      "metadata": {
        "colab": {
          "base_uri": "https://localhost:8080/"
        },
        "id": "raAShZpPE_-P",
        "outputId": "f8e2689e-25f3-4dc9-f5ac-9227847e7bec"
      },
      "execution_count": null,
      "outputs": [
        {
          "output_type": "execute_result",
          "data": {
            "text/plain": [
              "1"
            ]
          },
          "metadata": {},
          "execution_count": 421
        }
      ]
    },
    {
      "cell_type": "code",
      "source": [
        "#Raining or not in each person's location\n",
        "def raining():\n",
        "  rain = []\n",
        "  for i in range(4):\n",
        "    rain.append(random.choice([True, False]))\n",
        "  return rain"
      ],
      "metadata": {
        "id": "lz0WAbMGeEep"
      },
      "execution_count": null,
      "outputs": []
    },
    {
      "cell_type": "code",
      "source": [
        "raining()"
      ],
      "metadata": {
        "colab": {
          "base_uri": "https://localhost:8080/"
        },
        "id": "8HnMzXcUeW0C",
        "outputId": "5e0a9e54-dd79-42f3-c887-53a9ef8d3efd"
      },
      "execution_count": null,
      "outputs": [
        {
          "output_type": "execute_result",
          "data": {
            "text/plain": [
              "[True, True, False, False]"
            ]
          },
          "metadata": {},
          "execution_count": 423
        }
      ]
    },
    {
      "cell_type": "code",
      "source": [
        "#Calculates the chances of lying compared to whether an area is raining or not\n",
        "def calcLie(raining):\n",
        "  lies = []\n",
        "  lies.append(friend(33)); lies.append(friend(33)) #First two friends\n",
        "  lies.append(friend(20)); lies.append(friend(20)) #Second two friends\n",
        "  if(((lies[0] == False and raining[0] == True) or (lies[1] == False and raining[1] == True) or (lies[2] == False and raining[2] == True) or (lies[3] == False and raining[3] == True))):\n",
        "    return True #It is raining somwhere in Boston / someone is lying\n",
        "  return False"
      ],
      "metadata": {
        "id": "YEbe2IKlOSqV"
      },
      "execution_count": null,
      "outputs": []
    },
    {
      "cell_type": "code",
      "source": [
        "calcLie(raining())"
      ],
      "metadata": {
        "colab": {
          "base_uri": "https://localhost:8080/"
        },
        "id": "WDCMBLrPPBUS",
        "outputId": "a9f9b9a5-ce95-485e-92ac-a9d767e98f48"
      },
      "execution_count": null,
      "outputs": [
        {
          "output_type": "execute_result",
          "data": {
            "text/plain": [
              "False"
            ]
          },
          "metadata": {},
          "execution_count": 425
        }
      ]
    },
    {
      "cell_type": "code",
      "source": [
        "#Determines how many times it takes for there to have one friend lie and it be raining in that area\n",
        "def countLie():\n",
        "  counter = 0\n",
        "  while(True):\n",
        "    counter += 1\n",
        "    if(calcLie(raining()) == True):\n",
        "      break\n",
        "  return counter"
      ],
      "metadata": {
        "id": "u7FGKslMbGug"
      },
      "execution_count": null,
      "outputs": []
    },
    {
      "cell_type": "code",
      "source": [
        "countLie()"
      ],
      "metadata": {
        "colab": {
          "base_uri": "https://localhost:8080/"
        },
        "id": "ECeMQSodbWpZ",
        "outputId": "59e3307f-b46c-4553-af7d-200c03ad5b7d"
      },
      "execution_count": null,
      "outputs": [
        {
          "output_type": "execute_result",
          "data": {
            "text/plain": [
              "1"
            ]
          },
          "metadata": {},
          "execution_count": 427
        }
      ]
    },
    {
      "cell_type": "code",
      "source": [
        "#Calculating the probability that all 4 friends will answer no and at least 1 will lie\n",
        "lies = []\n",
        "prob = []\n",
        "for i in range(10000):\n",
        "  lies.append(1 / countLie())\n",
        "  prob.append(sum(np.array(lies))/(i + 1))"
      ],
      "metadata": {
        "id": "SfvpaLHGwOWY"
      },
      "execution_count": null,
      "outputs": []
    },
    {
      "cell_type": "code",
      "source": [
        "#Plotting the results of monte carlo simulation\n",
        "plt.plot(prob)\n",
        "plt.show()"
      ],
      "metadata": {
        "colab": {
          "base_uri": "https://localhost:8080/",
          "height": 265
        },
        "id": "yCDO6gOCNRM5",
        "outputId": "bd02ce5d-186c-4641-cad0-bc8e1b8d2f60"
      },
      "execution_count": null,
      "outputs": [
        {
          "output_type": "display_data",
          "data": {
            "text/plain": [
              "<Figure size 432x288 with 1 Axes>"
            ],
            "image/png": "[encoded data removed]"
          },
          "metadata": {
            "needs_background": "light"
          }
        }
      ]
    },
    {
      "cell_type": "code",
      "source": [
        "sum(np.array(lies))/(10000)\n",
        "#Around a 63% chance that someone is lying and that it is raining in Boston"
      ],
      "metadata": {
        "colab": {
          "base_uri": "https://localhost:8080/"
        },
        "id": "Nl4f1TPiIMbO",
        "outputId": "44939acc-5acb-4926-9da0-090f55d731ad"
      },
      "execution_count": null,
      "outputs": [
        {
          "output_type": "execute_result",
          "data": {
            "text/plain": [
              "0.6330666498778874"
            ]
          },
          "metadata": {},
          "execution_count": 430
        }
      ]
    },
    {
      "cell_type": "markdown",
      "source": [
        "### Question 3\n",
        "\n",
        "3. Mad Max wants to travel from New York to Dallas by the shortest possible route. He may travel over the routes shown in the table below. Unfortunately, the Wicked Witch can block one road leading out of Atlanta and one road leading out of Nashville. Mad Max will not know which roads have been blocked until he arrives at Atlanta or Nashville. Should Mad Max start toward Atlanta or Nashville?"
      ],
      "metadata": {
        "id": "m9J1xDaMTcqX"
      }
    },
    {
      "cell_type": "code",
      "source": [
        "import random\n",
        "import numpy as np\n",
        "import matplotlib.pyplot as plt"
      ],
      "metadata": {
        "id": "NqgeTBkyTeJK"
      },
      "execution_count": null,
      "outputs": []
    },
    {
      "cell_type": "code",
      "source": [
        "#NY - AT - SL - DAL = 2083\n",
        "#NY - AT - NO - DAL = 1841\n",
        "#NY - NA - SL - DAL = 1831\n",
        "#NY - NA - NO - DAL = 1937"
      ],
      "metadata": {
        "id": "Rp1JGzf3Nb1B"
      },
      "execution_count": null,
      "outputs": []
    },
    {
      "cell_type": "code",
      "source": [
        "#Possible paths (miles)\n",
        "paths = [2083, 1841, 1831, 1937]\n",
        "#Possible paths blocked, only one for each 'na' or 'at'\n",
        "blocked = {'naSL' : 309, 'naNO' : 532, 'atSL' : 555, 'atNO' : 470}"
      ],
      "metadata": {
        "id": "HDr1-2zpOjVn"
      },
      "execution_count": null,
      "outputs": []
    },
    {
      "cell_type": "code",
      "source": [
        "#Generates random number to simulate witch choosing which path to block\n",
        "def randPath():\n",
        "  nash = random.randint(1, 2)\n",
        "  atl = random.randint(1, 2)\n",
        "  return nash, atl"
      ],
      "metadata": {
        "id": "RZShk8zVOo0y"
      },
      "execution_count": null,
      "outputs": []
    },
    {
      "cell_type": "code",
      "source": [
        "print(randPath())"
      ],
      "metadata": {
        "colab": {
          "base_uri": "https://localhost:8080/"
        },
        "id": "D--WUJ83QpFX",
        "outputId": "77b512b4-ec2c-4b72-d68d-dd63d115f466"
      },
      "execution_count": null,
      "outputs": [
        {
          "output_type": "stream",
          "name": "stdout",
          "text": [
            "(1, 1)\n"
          ]
        }
      ]
    },
    {
      "cell_type": "code",
      "source": [
        "atProb = []\n",
        "nashProb = []\n",
        "\n",
        "def monteCarlo():\n",
        "  atWin = 0; nashWin = 0\n",
        "  path = ()\n",
        "  pathAt = 0; pathNash = 0\n",
        "  for i in range(10000):\n",
        "    path = randPath()\n",
        "    if(path[0] == 1):\n",
        "      pathNash = 1937\n",
        "    else:\n",
        "      pathNash = 1831\n",
        "    if(path[1] == 1):\n",
        "      pathAt = 1841\n",
        "    else:\n",
        "      pathAt = 2083\n",
        "    if(pathNash < pathAt):\n",
        "      nashWin += 1\n",
        "    if(pathAt < pathNash):\n",
        "      atWin += 1\n",
        "\n",
        "    atProb.append(atWin/(i+1))\n",
        "    nashProb.append(nashWin/(i+1))\n",
        "  plt.plot(nashProb,label='Nashville Probability')\n",
        "  plt.plot(atProb, label='Atlanta Probability')\n",
        "  plt.tick_params(axis='x', colors='navy')\n",
        "  plt.tick_params(axis='y', colors='navy')\n",
        "  plt.xlabel('Repetitions of Experiment',fontsize=14,color='green')\n",
        "  plt.ylabel('Experimental Probability',fontsize=14,color='green')\n",
        "  plt.legend()\n",
        "  print('The best route to take is towards Nashville ', nashProb[-1], ' of the time it is better than Atlanta')\n",
        "monteCarlo()"
      ],
      "metadata": {
        "colab": {
          "base_uri": "https://localhost:8080/",
          "height": 300
        },
        "id": "XHzH1SGvVQwu",
        "outputId": "56c95ca1-ad46-44ef-d2d9-8340d28fe3ba"
      },
      "execution_count": null,
      "outputs": [
        {
          "output_type": "stream",
          "name": "stdout",
          "text": [
            "The best route to take is towards Nashville  0.7469  of the time it is better than Atlanta\n"
          ]
        },
        {
          "output_type": "display_data",
          "data": {
            "text/plain": [
              "<Figure size 432x288 with 1 Axes>"
            ],
            "image/png": "[encoded data removed]"
          },
          "metadata": {
            "needs_background": "light"
          }
        }
      ]
    }
  ]
}