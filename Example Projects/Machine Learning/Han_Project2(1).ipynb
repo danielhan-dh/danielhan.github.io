{
  "nbformat": 4,
  "nbformat_minor": 0,
  "metadata": {
    "colab": {
      "provenance": []
    },
    "kernelspec": {
      "name": "python3",
      "display_name": "Python 3"
    },
    "language_info": {
      "name": "python"
    }
  },
  "cells": [
    {
      "cell_type": "markdown",
      "source": [
        "### Question 1\n",
        " 1.  Write code for creating 200 simple random samples of size 30 from a population of size 1000000 that follows a beta distribution with loc=3, scale =4, 𝛼=1.5  and  𝛽=2.3 . If you consider a 96% confidence level, create the corresponding 200 confidence intervals and check with code how many trap inside the mean of the population. Hint: you can approximate the mean and the standard deviation of the population."
      ],
      "metadata": {
        "id": "4unCOXUyyNwV"
      }
    },
    {
      "cell_type": "code",
      "source": [
        "import numpy as np\n",
        "import scipy.stats as stats\n",
        "from scipy.stats import beta"
      ],
      "metadata": {
        "id": "HEPQL9M3rqI1"
      },
      "execution_count": null,
      "outputs": []
    },
    {
      "cell_type": "code",
      "source": [
        "#Generating the population\n",
        "population = beta.rvs(loc = 3, scale = 4, a = 1.5, b = 2.3, size = 1000000);\n",
        "population"
      ],
      "metadata": {
        "colab": {
          "base_uri": "https://localhost:8080/"
        },
        "id": "n5ua6uoSrzAZ",
        "outputId": "00769f50-a638-4e3c-ce03-69d2bf3faacb"
      },
      "execution_count": null,
      "outputs": [
        {
          "output_type": "execute_result",
          "data": {
            "text/plain": [
              "array([3.88994305, 3.45854424, 4.0499465 , ..., 5.06640132, 4.03139881,\n",
              "       6.48587351])"
            ]
          },
          "metadata": {},
          "execution_count": 2
        }
      ]
    },
    {
      "cell_type": "code",
      "source": [
        "#Creating a 2d array of all the samples\n",
        "array = np.zeros((200,30))\n",
        "array.shape"
      ],
      "metadata": {
        "colab": {
          "base_uri": "https://localhost:8080/"
        },
        "id": "hYCd05cxrzKj",
        "outputId": "a4695243-0746-41c2-9f7b-ef5b4870af6a"
      },
      "execution_count": null,
      "outputs": [
        {
          "output_type": "execute_result",
          "data": {
            "text/plain": [
              "(200, 30)"
            ]
          },
          "metadata": {},
          "execution_count": 3
        }
      ]
    },
    {
      "cell_type": "code",
      "source": [
        "#Filling 2d array with random samples from population\n",
        "for i in range(200):\n",
        "  for k in range(30):\n",
        "    array[i][k] = np.random.choice(population)"
      ],
      "metadata": {
        "id": "U_dViwxgqBfS"
      },
      "execution_count": null,
      "outputs": []
    },
    {
      "cell_type": "code",
      "source": [
        "#Computing the mean and standard deviation of each sample\n",
        "mean = array.mean(axis = 1)\n",
        "std = array.std(axis = 1)"
      ],
      "metadata": {
        "id": "N6-qhZ2RrzTS"
      },
      "execution_count": null,
      "outputs": []
    },
    {
      "cell_type": "code",
      "source": [
        "#Calculating confidence interval for each sample\n",
        "confidenceInt = []\n",
        "for i in range(200):\n",
        "  confidenceInt.append(stats.t.interval(alpha = 0.96, df = len(array[i]) - 1, loc = mean[i], scale = std[i]))"
      ],
      "metadata": {
        "id": "a0F8RZV6rzhx"
      },
      "execution_count": null,
      "outputs": []
    },
    {
      "cell_type": "code",
      "source": [
        "#How many samples contain the population mean\n",
        "populationM = population.mean()\n",
        "count = 0\n",
        "for i in range(200):\n",
        "  if (confidenceInt[i][0] <= populationM and confidenceInt[i][1] >= populationM):\n",
        "    count+=1\n",
        "count"
      ],
      "metadata": {
        "colab": {
          "base_uri": "https://localhost:8080/"
        },
        "id": "-x6w7jVurzxK",
        "outputId": "0958f9f8-ae17-42e8-ef9b-ae9491c7c348"
      },
      "execution_count": null,
      "outputs": [
        {
          "output_type": "execute_result",
          "data": {
            "text/plain": [
              "200"
            ]
          },
          "metadata": {},
          "execution_count": 7
        }
      ]
    },
    {
      "cell_type": "code",
      "source": [
        "#All 200 samples trap inside the mean of the population"
      ],
      "metadata": {
        "id": "UOyyA7a-yb6J"
      },
      "execution_count": null,
      "outputs": []
    },
    {
      "cell_type": "markdown",
      "source": [
        "### Question 2\n",
        "\n",
        "2. Create a complete computational diagram for the Upper Confidence Bound algorithm implemented in class.  "
      ],
      "metadata": {
        "id": "RcSoGxaGygoI"
      }
    },
    {
      "cell_type": "markdown",
      "source": [
        "<figure>\n",
        "<center>\n",
        "<img src='https://drive.google.com/uc?id=1-R5g0hDCRd2ryYucUNd6sODdyS97Pizp'width='800px'/>\n",
        "<figcaption>Computational Graph</figcaption></center>\n",
        "</figure>\n"
      ],
      "metadata": {
        "id": "F8PcWMXdUFmg"
      }
    },
    {
      "cell_type": "markdown",
      "source": [
        "### Question 3\n",
        "\n",
        "3. Create a mini-casino with 6 slot machines whose such that the rewards are distributed as follows:\n",
        "Machine_1: Normal distribution with mean 0.2 and standard deviation 1\n",
        "Machine_2: Uniform distribution supported between 1 and 2.5.\n",
        "Machine_3: Triangular distribution supported between 0.5 and 2, and the vertex projection splits the base 65%-35%.\n",
        "Machine_4: Gamma distribution supported between -0.25 and infinity, with 𝛽 = 2/3, and 𝛼=2\n",
        "Machine_5: Beta distribution supported between 0 and 2.5, with 𝛼=2.5, and 𝛽 = 2.3\n",
        "Machine_6: Normal distribution with mean 0.5 and standard deviation 0.75\n",
        "Assume it costs $1.25 to play each machine once. Write code and apply the reinforcement learning method studied to determine the most lucky machine(s)"
      ],
      "metadata": {
        "id": "UtI-cH-kzOI_"
      }
    },
    {
      "cell_type": "code",
      "source": [
        "import numpy as np\n",
        "import scipy.stats as stats\n",
        "from scipy.stats import norm, beta, triang, uniform, gamma\n",
        "%matplotlib inline\n",
        "%config InlineBackend.figure_format = 'retina'\n",
        "import matplotlib.pyplot as plt\n",
        "import matplotlib as mpl\n",
        "mpl.rcParams['figure.dpi'] = 120"
      ],
      "metadata": {
        "id": "7ijpKoH8E8ly"
      },
      "execution_count": null,
      "outputs": []
    },
    {
      "cell_type": "code",
      "source": [
        "#Initializing all the machines in one method and returning a value every time method is called\n",
        "def casino(machine):\n",
        "  if(machine == 1):\n",
        "    return norm.rvs(loc = 0.2, scale = 1)\n",
        "  if(machine == 2):\n",
        "    return uniform.rvs(loc = 1, scale = 1.5)\n",
        "  if(machine == 3):\n",
        "    return triang.rvs(loc = 0.5, scale = 2, c = 0.65 * (2 - 0.5) / (2 - 0.5))\n",
        "  if(machine == 4):\n",
        "    return gamma.rvs(loc = -0.25, a = 2, scale = 1/(2/3))\n",
        "  if(machine == 5):\n",
        "    return beta.rvs(loc = 0, scale = 2.5, a = 2.5, b = 2.3)\n",
        "  if(machine == 6):\n",
        "    return norm.rvs(loc = 0.5, scale = 0.75)"
      ],
      "metadata": {
        "id": "Dl-wU2o0zQxn"
      },
      "execution_count": null,
      "outputs": []
    },
    {
      "cell_type": "code",
      "source": [
        "played = []\n",
        "award_record = []\n",
        "count = 1\n",
        "\n",
        "c = 0.9\n",
        "repeat = [0] * 6\n",
        "sum = [0] * 6\n",
        "\n",
        "\n",
        "while count < 1000:\n",
        "  unit = 1\n",
        "  max = 0\n",
        "  for i in range(6):\n",
        "    if (repeat[i] > 0):\n",
        "      average = sum[i]/repeat[i]\n",
        "      E = c*np.sqrt(np.log(10000)/repeat[i])\n",
        "      upper = average + E\n",
        "    else:\n",
        "      upper = 1e200\n",
        "    if(upper >= max):\n",
        "      max = upper\n",
        "      unit = i+1\n",
        "    played.append(unit)\n",
        "    repeat[unit-1] = repeat[unit-1] + 1\n",
        "    award = casino(machine=unit)\n",
        "    sum[unit-1] = sum[unit-1] + award - 1.25\n",
        "    count += 1\n",
        "\n",
        "plt.hist(played, bins=range(9),rwidth=0.9, alpha=0.5,align='left')\n",
        "plt.xlabel(\"Slot Machine\")\n",
        "plt.xticks(np.arange(1,7,1))\n",
        "plt.ylabel(\"Number of Times Used\")\n",
        "plt.show()\n",
        "#The lucky machine is machine 4"
      ],
      "metadata": {
        "colab": {
          "base_uri": "https://localhost:8080/",
          "height": 454
        },
        "id": "wsOqGHSvGVZx",
        "outputId": "3f25fefd-333b-4b20-a722-97c555b4eb83"
      },
      "execution_count": null,
      "outputs": [
        {
          "output_type": "display_data",
          "data": {
            "text/plain": [
              "<Figure size 720x480 with 1 Axes>"
            ],
            "image/png": "[encoded data removed]"
          },
          "metadata": {
            "image/png": {
              "width": 648,
              "height": 437
            },
            "needs_background": "light"
          }
        }
      ]
    }
  ]
}